{
 "cells": [
  {
   "cell_type": "code",
   "execution_count": null,
   "id": "98440e90-c121-4556-a8f1-5b4d2577fa67",
   "metadata": {},
   "outputs": [],
   "source": [
    "text,label\n",
    "\"Fake news about vaccine spreading fast\",spam\n",
    "\"Genuine update from health ministry\",not_spam\n",
    "\"Click here to win a free iPhone!\",spam\n",
    "\"Government announces new education policy\",not_spam\n"
   ]
  }
 ],
 "metadata": {
  "kernelspec": {
   "display_name": "Python [conda env:base] *",
   "language": "python",
   "name": "conda-base-py"
  },
  "language_info": {
   "codemirror_mode": {
    "name": "ipython",
    "version": 3
   },
   "file_extension": ".py",
   "mimetype": "text/x-python",
   "name": "python",
   "nbconvert_exporter": "python",
   "pygments_lexer": "ipython3",
   "version": "3.12.7"
  }
 },
 "nbformat": 4,
 "nbformat_minor": 5
}
